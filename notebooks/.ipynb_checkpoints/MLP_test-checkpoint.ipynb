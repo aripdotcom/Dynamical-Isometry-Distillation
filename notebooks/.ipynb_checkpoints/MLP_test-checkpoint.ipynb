{
 "cells": [
  {
   "cell_type": "code",
   "execution_count": 1,
   "metadata": {},
   "outputs": [],
   "source": [
    "import numpy as np\n",
    "import torchvision\n",
    "\n",
    "import torch.nn.functional as F\n",
    "import torch.nn as nn\n",
    "import torch\n",
    "import torch.optim as optim\n",
    "\n",
    "import math\n",
    "from torch.nn import init\n",
    "from torch.autograd import Variable\n",
    "from tqdm import trange\n",
    "from torch.distributions.categorical import Categorical\n",
    "import scipy\n",
    "import scipy.linalg\n",
    "from collections import Counter\n",
    "\n",
    "\n",
    "#from model import CnnActorCriticNetwork, RNDModel\n",
    "from utils import global_grad_norm_\n",
    "device = 'cuda'\n"
   ]
  },
  {
   "cell_type": "code",
   "execution_count": 3,
   "metadata": {},
   "outputs": [
    {
     "data": {
      "text/plain": [
       "<torch._C.Generator at 0x7f5ce26d4fb0>"
      ]
     },
     "execution_count": 3,
     "metadata": {},
     "output_type": "execute_result"
    }
   ],
   "source": [
    "n_epochs = 3\n",
    "batch_size_train = 64\n",
    "batch_size_test = 1000\n",
    "learning_rate = 0.01\n",
    "momentum = 0.5\n",
    "log_interval = 10\n",
    "\n",
    "random_seed = 1\n",
    "torch.backends.cudnn.enabled = False\n",
    "torch.manual_seed(random_seed)"
   ]
  },
  {
   "cell_type": "code",
   "execution_count": 61,
   "metadata": {},
   "outputs": [],
   "source": [
    "train_loader = torch.utils.data.DataLoader(\n",
    "  torchvision.datasets.MNIST('./data/MNIST/', train=True, download=True,\n",
    "                             transform=torchvision.transforms.Compose([\n",
    "                               torchvision.transforms.ToTensor(),\n",
    "                               torchvision.transforms.Normalize(\n",
    "                                 (0.1307,), (0.3081,))\n",
    "                             ])),\n",
    "  batch_size=1, shuffle=True)\n",
    "\n",
    "test_loader = torch.utils.data.DataLoader(\n",
    "  torchvision.datasets.MNIST('./data/MNIST/', train=False, download=True,\n",
    "                             transform=torchvision.transforms.Compose([\n",
    "                               torchvision.transforms.ToTensor(),\n",
    "                               torchvision.transforms.Normalize(\n",
    "                                 (0.1307,), (0.3081,))\n",
    "                             ])),\n",
    "  batch_size=1000, shuffle=True)"
   ]
  },
  {
   "cell_type": "code",
   "execution_count": 5,
   "metadata": {},
   "outputs": [],
   "source": [
    "class Net(nn.Module):\n",
    "    def __init__(self):\n",
    "        super(Net, self).__init__()\n",
    "        self.conv1 = nn.Conv2d(1, 10, kernel_size=5)\n",
    "        self.conv2 = nn.Conv2d(10, 20, kernel_size=5)\n",
    "        self.conv2_drop = nn.Dropout2d()\n",
    "        self.fc1 = nn.Linear(320, 50)\n",
    "        self.fc2 = nn.Linear(50, 10)\n",
    "\n",
    "    def forward(self, x):\n",
    "        x = F.relu(F.max_pool2d(self.conv1(x), 2))\n",
    "        x = F.relu(F.max_pool2d(self.conv2_drop(self.conv2(x)), 2))\n",
    "        x = x.view(-1, 320)\n",
    "        x = F.relu(self.fc1(x))\n",
    "        x = F.dropout(x, training=self.training)\n",
    "        x = self.fc2(x)\n",
    "        return F.log_softmax(x)"
   ]
  },
  {
   "cell_type": "code",
   "execution_count": 62,
   "metadata": {},
   "outputs": [],
   "source": [
    "network = Net()\n",
    "optimizer = optim.SGD(network.parameters(), lr=learning_rate,\n",
    "                      momentum=momentum)"
   ]
  },
  {
   "cell_type": "code",
   "execution_count": 51,
   "metadata": {},
   "outputs": [],
   "source": [
    "train_losses = []\n",
    "train_counter = []\n",
    "test_losses = []\n",
    "test_counter = [i*len(train_loader.dataset) for i in range(n_epochs + 1)]"
   ]
  },
  {
   "cell_type": "code",
   "execution_count": 52,
   "metadata": {},
   "outputs": [],
   "source": [
    "num_of_shots = 11\n",
    "break_trashold = num_of_shots*15\n",
    "few_shot_dataset = []\n",
    "few_shot_dataset_y = []\n",
    "few_shot_dataset_y_np = list(range(0,10))\n",
    "for batch_idx, (data, target) in enumerate(train_loader):\n",
    "    num_of_samples = [x for x in Counter(few_shot_dataset_y_np).values()]\n",
    "    pos_of_samples = [x for x in Counter(few_shot_dataset_y_np).keys()]\n",
    "    if num_of_samples[pos_of_samples.index(target.cpu().numpy()[0])]<num_of_shots:\n",
    "        few_shot_dataset.append(data)\n",
    "        few_shot_dataset_y.append(target)\n",
    "        few_shot_dataset_y_np.append(target.cpu().numpy()[0])\n",
    "    if batch_idx>break_trashold:\n",
    "        break"
   ]
  },
  {
   "cell_type": "code",
   "execution_count": 53,
   "metadata": {},
   "outputs": [],
   "source": [
    "def train(epoch, dataset):\n",
    "    network.train()\n",
    "    for batch_idx, (data, target) in enumerate(dataset):\n",
    "        optimizer.zero_grad()\n",
    "        output = network(data)\n",
    "        loss = F.nll_loss(output, target)\n",
    "        loss.backward()\n",
    "        optimizer.step()"
   ]
  },
  {
   "cell_type": "code",
   "execution_count": 58,
   "metadata": {},
   "outputs": [],
   "source": [
    "def test():\n",
    "    network.eval()\n",
    "    test_loss = 0\n",
    "    correct = 0\n",
    "    with torch.no_grad():\n",
    "        for data, target in test_loader:\n",
    "          output = network(data)\n",
    "          test_loss += F.nll_loss(output, target, size_average=False).item()\n",
    "          pred = output.data.max(1, keepdim=True)[1]\n",
    "          correct += pred.eq(target.data.view_as(pred)).sum()\n",
    "    test_loss /= len(test_loader.dataset)\n",
    "    test_losses.append(test_loss)\n",
    "    print('Test set: Avg. loss: {:.4f}, Accuracy: {}/{} ({:.0f}%)\\n'.format(\n",
    "    test_loss, correct, len(test_loader.dataset),\n",
    "    100. * correct / len(test_loader.dataset)))"
   ]
  },
  {
   "cell_type": "code",
   "execution_count": 63,
   "metadata": {},
   "outputs": [
    {
     "name": "stderr",
     "output_type": "stream",
     "text": [
      "/home/aasadulaev/soft/conda2/envs/jpoenv/lib/python3.6/site-packages/ipykernel_launcher.py:17: UserWarning: Implicit dimension choice for log_softmax has been deprecated. Change the call to include dim=X as an argument.\n"
     ]
    },
    {
     "name": "stdout",
     "output_type": "stream",
     "text": [
      "Test set: Avg. loss: 2.3297, Accuracy: 923/10000 (9%)\n",
      "\n",
      "Test set: Avg. loss: 2.2975, Accuracy: 1733/10000 (17%)\n",
      "\n",
      "Test set: Avg. loss: 2.2817, Accuracy: 1439/10000 (14%)\n",
      "\n",
      "Test set: Avg. loss: 2.2352, Accuracy: 2883/10000 (28%)\n",
      "\n",
      "Test set: Avg. loss: 2.1042, Accuracy: 4201/10000 (42%)\n",
      "\n",
      "Test set: Avg. loss: 2.0229, Accuracy: 3545/10000 (35%)\n",
      "\n",
      "Test set: Avg. loss: 1.6951, Accuracy: 3911/10000 (39%)\n",
      "\n",
      "Test set: Avg. loss: 1.6238, Accuracy: 4654/10000 (46%)\n",
      "\n",
      "Test set: Avg. loss: 1.6330, Accuracy: 5453/10000 (54%)\n",
      "\n",
      "Test set: Avg. loss: 1.6424, Accuracy: 5772/10000 (57%)\n",
      "\n",
      "Test set: Avg. loss: 1.4794, Accuracy: 5897/10000 (58%)\n",
      "\n",
      "Test set: Avg. loss: 1.6292, Accuracy: 4766/10000 (47%)\n",
      "\n",
      "Test set: Avg. loss: 1.2377, Accuracy: 6760/10000 (67%)\n",
      "\n",
      "Test set: Avg. loss: 1.4848, Accuracy: 5974/10000 (59%)\n",
      "\n",
      "Test set: Avg. loss: 1.1240, Accuracy: 6316/10000 (63%)\n",
      "\n",
      "Test set: Avg. loss: 1.9670, Accuracy: 2819/10000 (28%)\n",
      "\n",
      "Test set: Avg. loss: 1.3919, Accuracy: 5894/10000 (58%)\n",
      "\n",
      "Test set: Avg. loss: 1.2393, Accuracy: 6177/10000 (61%)\n",
      "\n",
      "Test set: Avg. loss: 1.5624, Accuracy: 5122/10000 (51%)\n",
      "\n",
      "Test set: Avg. loss: 1.0891, Accuracy: 6333/10000 (63%)\n",
      "\n",
      "Test set: Avg. loss: 1.2146, Accuracy: 6172/10000 (61%)\n",
      "\n",
      "Test set: Avg. loss: 1.2202, Accuracy: 6536/10000 (65%)\n",
      "\n",
      "Test set: Avg. loss: 1.1713, Accuracy: 6380/10000 (63%)\n",
      "\n",
      "Test set: Avg. loss: 1.0538, Accuracy: 6602/10000 (66%)\n",
      "\n",
      "Test set: Avg. loss: 1.2094, Accuracy: 6074/10000 (60%)\n",
      "\n",
      "Test set: Avg. loss: 1.3334, Accuracy: 5665/10000 (56%)\n",
      "\n",
      "Test set: Avg. loss: 0.9597, Accuracy: 7334/10000 (73%)\n",
      "\n",
      "Test set: Avg. loss: 1.4112, Accuracy: 5798/10000 (57%)\n",
      "\n",
      "Test set: Avg. loss: 1.2574, Accuracy: 6626/10000 (66%)\n",
      "\n",
      "Test set: Avg. loss: 1.0776, Accuracy: 6802/10000 (68%)\n",
      "\n",
      "Test set: Avg. loss: 1.0604, Accuracy: 6845/10000 (68%)\n",
      "\n"
     ]
    }
   ],
   "source": [
    "test()\n",
    "for epoch in range(1, 30 + 1):\n",
    "  train(epoch, zip(few_shot_dataset, few_shot_dataset_y))\n",
    "  test()"
   ]
  },
  {
   "cell_type": "code",
   "execution_count": null,
   "metadata": {},
   "outputs": [],
   "source": []
  }
 ],
 "metadata": {
  "kernelspec": {
   "display_name": "Python 3",
   "language": "python",
   "name": "python3"
  },
  "language_info": {
   "codemirror_mode": {
    "name": "ipython",
    "version": 3
   },
   "file_extension": ".py",
   "mimetype": "text/x-python",
   "name": "python",
   "nbconvert_exporter": "python",
   "pygments_lexer": "ipython3",
   "version": "3.8.5"
  }
 },
 "nbformat": 4,
 "nbformat_minor": 2
}
