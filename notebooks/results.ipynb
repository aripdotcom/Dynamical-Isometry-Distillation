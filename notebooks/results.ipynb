{
 "cells": [
  {
   "cell_type": "code",
   "execution_count": 20,
   "metadata": {},
   "outputs": [],
   "source": [
    "import numpy as np\n",
    "import pandas as pd\n",
    "import matplotlib.pyplot as plt\n",
    "%matplotlib inline\n",
    "import seaborn as sns\n",
    "sns.set_style('whitegrid')\n",
    "from matplotlib.pyplot import figure"
   ]
  },
  {
   "cell_type": "markdown",
   "metadata": {},
   "source": [
    "### Utils"
   ]
  },
  {
   "cell_type": "code",
   "execution_count": 54,
   "metadata": {},
   "outputs": [],
   "source": [
    "def get_accuracy(data, way, shot):\n",
    "    data_select = data[(data['train_shot'] == shot) & (data['way'] == way)]\n",
    "    max_acc = data_select.accuracy.max()\n",
    "    return max_acc\n",
    "    \n",
    "    \n",
    "def get_best_params(data, way, shot):\n",
    "    data_select = data[(data['train_shot'] == shot) & (data['way'] == way)]\n",
    "    max_acc = data_select.accuracy.max()\n",
    "    return data_select[data_select['accuracy'] == max_acc]"
   ]
  },
  {
   "cell_type": "markdown",
   "metadata": {},
   "source": [
    "### Basic model"
   ]
  },
  {
   "cell_type": "code",
   "execution_count": 76,
   "metadata": {},
   "outputs": [
    {
     "data": {
      "text/html": [
       "<div>\n",
       "<style scoped>\n",
       "    .dataframe tbody tr th:only-of-type {\n",
       "        vertical-align: middle;\n",
       "    }\n",
       "\n",
       "    .dataframe tbody tr th {\n",
       "        vertical-align: top;\n",
       "    }\n",
       "\n",
       "    .dataframe thead th {\n",
       "        text-align: right;\n",
       "    }\n",
       "</style>\n",
       "<table border=\"1\" class=\"dataframe\">\n",
       "  <thead>\n",
       "    <tr style=\"text-align: right;\">\n",
       "      <th></th>\n",
       "      <th>way</th>\n",
       "      <th>train_shot</th>\n",
       "      <th>test_shot</th>\n",
       "      <th>x_dim</th>\n",
       "      <th>z_dim</th>\n",
       "      <th>optimizer</th>\n",
       "      <th>lr</th>\n",
       "      <th>initialization</th>\n",
       "      <th>channels</th>\n",
       "      <th>loss</th>\n",
       "      <th>trials</th>\n",
       "      <th>silent</th>\n",
       "      <th>split</th>\n",
       "      <th>in_alphabet</th>\n",
       "      <th>add_rotations</th>\n",
       "      <th>gpu</th>\n",
       "      <th>accuracy</th>\n",
       "      <th>duration_sec</th>\n",
       "    </tr>\n",
       "  </thead>\n",
       "  <tbody>\n",
       "    <tr>\n",
       "      <th>0</th>\n",
       "      <td>5</td>\n",
       "      <td>1</td>\n",
       "      <td>1</td>\n",
       "      <td>28</td>\n",
       "      <td>50</td>\n",
       "      <td>adam</td>\n",
       "      <td>0.01</td>\n",
       "      <td>xavier_normal</td>\n",
       "      <td>1</td>\n",
       "      <td>MSELoss()</td>\n",
       "      <td>100</td>\n",
       "      <td>True</td>\n",
       "      <td>test</td>\n",
       "      <td>False</td>\n",
       "      <td>True</td>\n",
       "      <td>0</td>\n",
       "      <td>0.226</td>\n",
       "      <td>7.880399</td>\n",
       "    </tr>\n",
       "  </tbody>\n",
       "</table>\n",
       "</div>"
      ],
      "text/plain": [
       "   way  train_shot  test_shot  x_dim  z_dim optimizer    lr initialization  \\\n",
       "0    5           1          1     28     50      adam  0.01  xavier_normal   \n",
       "\n",
       "   channels       loss  trials  silent split  in_alphabet  add_rotations  gpu  \\\n",
       "0         1  MSELoss()     100    True  test        False           True    0   \n",
       "\n",
       "   accuracy  duration_sec  \n",
       "0     0.226      7.880399  "
      ]
     },
     "execution_count": 76,
     "metadata": {},
     "output_type": "execute_result"
    }
   ],
   "source": [
    "data = pd.read_csv('results/06-05-2019/basic_model.csv')\n",
    "data.head(1)"
   ]
  },
  {
   "cell_type": "code",
   "execution_count": 77,
   "metadata": {},
   "outputs": [
    {
     "data": {
      "text/plain": [
       "<matplotlib.axes._subplots.AxesSubplot at 0x7fa1f022ccf8>"
      ]
     },
     "execution_count": 77,
     "metadata": {},
     "output_type": "execute_result"
    },
    {
     "data": {
      "image/png": "[encoded data removed]",
      "text/plain": [
       "<Figure size 700x400 with 1 Axes>"
      ]
     },
     "metadata": {},
     "output_type": "display_data"
    }
   ],
   "source": [
    "z_dim_results = data[(data['train_shot'] == 5) & (data['lr'] == 0.001)]\n",
    "figure(num=None, figsize=(7, 4), dpi=100, facecolor='w', edgecolor='k')\n",
    "sns.lineplot(data=z_dim_results, x='z_dim', y='accuracy', markers=True, marker=\"o\", \n",
    "             dashes=False, style=\"initialization\", hue=\"initialization\")"
   ]
  },
  {
   "cell_type": "code",
   "execution_count": 78,
   "metadata": {},
   "outputs": [
    {
     "name": "stdout",
     "output_type": "stream",
     "text": [
      "5-way-1-shot: 0.3620000000000001\n",
      "5-way-3-shot: 0.5520000000000002\n",
      "5-way-5-shot: 0.6479999999999998\n",
      "5-way-10-shot: 0.7639999999999999\n",
      "\n"
     ]
    }
   ],
   "source": [
    "for way in sorted(np.unique(data['way'])):\n",
    "    for shot in sorted(np.unique(data['train_shot'])):\n",
    "        acc = get_accuracy(data, way, shot)\n",
    "        print(f\"{way}-way-{shot}-shot: {acc}\")\n",
    "    print()"
   ]
  },
  {
   "cell_type": "markdown",
   "metadata": {},
   "source": [
    "### Basic augmentation"
   ]
  },
  {
   "cell_type": "code",
   "execution_count": 61,
   "metadata": {},
   "outputs": [],
   "source": [
    "data = pd.read_csv('results/06-05-2019/simple_augmentation.csv')"
   ]
  },
  {
   "cell_type": "code",
   "execution_count": 62,
   "metadata": {},
   "outputs": [
    {
     "name": "stdout",
     "output_type": "stream",
     "text": [
      "5-way-1-shot: 0.522\n",
      "5-way-3-shot: 0.6879999999999998\n",
      "5-way-5-shot: 0.768\n",
      "5-way-10-shot: 0.86\n",
      "\n"
     ]
    }
   ],
   "source": [
    "for way in sorted(np.unique(data['way'])):\n",
    "    for shot in sorted(np.unique(data['train_shot'])):\n",
    "        acc = get_accuracy(data, way, shot)\n",
    "        print(f\"{way}-way-{shot}-shot: {acc}\")\n",
    "    print()"
   ]
  },
  {
   "cell_type": "code",
   "execution_count": 63,
   "metadata": {},
   "outputs": [
    {
     "data": {
      "text/html": [
       "<div>\n",
       "<style scoped>\n",
       "    .dataframe tbody tr th:only-of-type {\n",
       "        vertical-align: middle;\n",
       "    }\n",
       "\n",
       "    .dataframe tbody tr th {\n",
       "        vertical-align: top;\n",
       "    }\n",
       "\n",
       "    .dataframe thead th {\n",
       "        text-align: right;\n",
       "    }\n",
       "</style>\n",
       "<table border=\"1\" class=\"dataframe\">\n",
       "  <thead>\n",
       "    <tr style=\"text-align: right;\">\n",
       "      <th></th>\n",
       "      <th>way</th>\n",
       "      <th>train_shot</th>\n",
       "      <th>test_shot</th>\n",
       "      <th>x_dim</th>\n",
       "      <th>z_dim</th>\n",
       "      <th>optimizer</th>\n",
       "      <th>lr</th>\n",
       "      <th>initialization</th>\n",
       "      <th>channels</th>\n",
       "      <th>loss</th>\n",
       "      <th>trials</th>\n",
       "      <th>silent</th>\n",
       "      <th>split</th>\n",
       "      <th>in_alphabet</th>\n",
       "      <th>add_rotations</th>\n",
       "      <th>gpu</th>\n",
       "      <th>accuracy</th>\n",
       "      <th>duration_sec</th>\n",
       "    </tr>\n",
       "  </thead>\n",
       "  <tbody>\n",
       "    <tr>\n",
       "      <th>550</th>\n",
       "      <td>5</td>\n",
       "      <td>5</td>\n",
       "      <td>1</td>\n",
       "      <td>28</td>\n",
       "      <td>300</td>\n",
       "      <td>adam</td>\n",
       "      <td>0.001</td>\n",
       "      <td>xavier_normal</td>\n",
       "      <td>1</td>\n",
       "      <td>MSELoss()</td>\n",
       "      <td>100</td>\n",
       "      <td>True</td>\n",
       "      <td>test</td>\n",
       "      <td>False</td>\n",
       "      <td>True</td>\n",
       "      <td>1</td>\n",
       "      <td>0.768</td>\n",
       "      <td>57.343625</td>\n",
       "    </tr>\n",
       "  </tbody>\n",
       "</table>\n",
       "</div>"
      ],
      "text/plain": [
       "     way  train_shot  test_shot  x_dim  z_dim optimizer     lr initialization  \\\n",
       "550    5           5          1     28    300      adam  0.001  xavier_normal   \n",
       "\n",
       "     channels       loss  trials  silent split  in_alphabet  add_rotations  \\\n",
       "550         1  MSELoss()     100    True  test        False           True   \n",
       "\n",
       "     gpu  accuracy  duration_sec  \n",
       "550    1     0.768     57.343625  "
      ]
     },
     "execution_count": 63,
     "metadata": {},
     "output_type": "execute_result"
    }
   ],
   "source": [
    "get_best_params(data, 5, 5)"
   ]
  },
  {
   "cell_type": "code",
   "execution_count": null,
   "metadata": {},
   "outputs": [],
   "source": []
  }
 ],
 "metadata": {
  "kernelspec": {
   "display_name": "Python 3",
   "language": "python",
   "name": "python3"
  },
  "language_info": {
   "codemirror_mode": {
    "name": "ipython",
    "version": 3
   },
   "file_extension": ".py",
   "mimetype": "text/x-python",
   "name": "python",
   "nbconvert_exporter": "python",
   "pygments_lexer": "ipython3",
   "version": "3.7.3"
  }
 },
 "nbformat": 4,
 "nbformat_minor": 2
}
